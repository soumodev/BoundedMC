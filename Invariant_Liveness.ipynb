{
 "cells": [
  {
   "cell_type": "code",
   "execution_count": 1,
   "metadata": {},
   "outputs": [],
   "source": [
    "from z3 import *"
   ]
  },
  {
   "cell_type": "code",
   "execution_count": 4,
   "metadata": {},
   "outputs": [],
   "source": [
    "#   x,y are state variables    \n",
    "#   init-> (x=False)\n",
    "#   Trans :  p->q p->r "
   ]
  },
  {
   "cell_type": "code",
   "execution_count": 46,
   "metadata": {},
   "outputs": [],
   "source": [
    "def init(s):\n",
    "    return(And(s[0],Not(s[1])))\n",
    "\n",
    "def p(s):\n",
    "    return(s[0]==False)\n",
    "\n",
    "def trans(n,s):\n",
    "    s_prime = [Bool(\"y_%s\" % (i+1)) for i in range(n)] \n",
    "    s1 = Solver()\n",
    "    s1.add(Xor(s[0],s_prime[0]))\n",
    "    return s1,s_prime\n",
    "\n",
    "def Invariant_Check(n,k,init,trans,p):\n",
    "    S_0 = [Bool(\"x_%s\" % (i+1)) for i in range(n)]\n",
    "    s=Solver()\n",
    "    s.add(init(S_0), Not(p(S_0)))\n",
    "    if(s.check() == unsat):\n",
    "        S_N=S_0\n",
    "        while(k!=0):\n",
    "            S_N_prime = [Int(\"x_%s_%s\" %(i+1,k)) for i in range(n)]\n",
    "            solver,S_N_p = trans(n,S_N)\n",
    "            for i in range(n):\n",
    "                solver.add(S_N_prime[i]==S_N_p[i])\n",
    "            solver.add(Not(p(S_N_prime)))\n",
    "            if(solver.check == sat):\n",
    "                print(solver.model())\n",
    "                return \"Invariant doesn't hold and there is a counterexample\"\n",
    "            k-=1\n",
    "        return \"The invariant holds\"\n",
    "    elif(s.check() == sat):\n",
    "        print(s.model())\n",
    "        return \"Invariant doesn't hold and there is a counterexample\""
   ]
  },
  {
   "cell_type": "code",
   "execution_count": 47,
   "metadata": {},
   "outputs": [
    {
     "name": "stdout",
     "output_type": "stream",
     "text": [
      "[x_2 = False, x_1 = True]\n"
     ]
    },
    {
     "data": {
      "text/plain": [
       "\"Invariant doesn't hold and there is a counterexample\""
      ]
     },
     "execution_count": 47,
     "metadata": {},
     "output_type": "execute_result"
    }
   ],
   "source": [
    "n=2\n",
    "k=1\n",
    "Invariant_Check(n,k,init,trans,p)"
   ]
  },
  {
   "cell_type": "code",
   "execution_count": null,
   "metadata": {},
   "outputs": [],
   "source": []
  },
  {
   "cell_type": "code",
   "execution_count": null,
   "metadata": {},
   "outputs": [],
   "source": []
  }
 ],
 "metadata": {
  "kernelspec": {
   "display_name": "Python 3.7.9 64-bit",
   "language": "python",
   "name": "python37964bit7dc4d6ee6a834d6eac0196617a1c496f"
  },
  "language_info": {
   "codemirror_mode": {
    "name": "ipython",
    "version": 3
   },
   "file_extension": ".py",
   "mimetype": "text/x-python",
   "name": "python",
   "nbconvert_exporter": "python",
   "pygments_lexer": "ipython3",
   "version": "3.7.9"
  }
 },
 "nbformat": 4,
 "nbformat_minor": 4
}
